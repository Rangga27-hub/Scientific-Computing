{
  "nbformat": 4,
  "nbformat_minor": 0,
  "metadata": {
    "colab": {
      "provenance": [],
      "authorship_tag": "ABX9TyPGQ5P/rRMxbSxFHiGY4SKJ",
      "include_colab_link": true
    },
    "kernelspec": {
      "name": "python3",
      "display_name": "Python 3"
    },
    "language_info": {
      "name": "python"
    }
  },
  "cells": [
    {
      "cell_type": "markdown",
      "metadata": {
        "id": "view-in-github",
        "colab_type": "text"
      },
      "source": [
        "<a href=\"https://colab.research.google.com/github/Rangga27-hub/Scientific-Computing/blob/main/modul1.ipynb\" target=\"_parent\"><img src=\"https://colab.research.google.com/assets/colab-badge.svg\" alt=\"Open In Colab\"/></a>"
      ]
    },
    {
      "cell_type": "code",
      "execution_count": 2,
      "metadata": {
        "colab": {
          "base_uri": "https://localhost:8080/"
        },
        "id": "RhgwdHUpzAZJ",
        "outputId": "858e3eb6-9444-4d89-dfb8-088dec7a2e41"
      },
      "outputs": [
        {
          "output_type": "stream",
          "name": "stdout",
          "text": [
            "Masukkan Username: RANGGA\n",
            "Masukkan Password: Bn123\n",
            "Login berhasil!\n",
            "\n",
            "Masukkan Nama Siswa: rangga\n",
            "Masukkan Nilai UAS: 99\n",
            "Masukkan Nilai UTS: 27\n",
            "Masukkan Nilai ASG: 39\n",
            "\n",
            "=== Hasil Perhitungan ===\n",
            "Nama Siswa: rangga\n",
            "Final Score: 65.40\n",
            "Grade: C\n"
          ]
        }
      ],
      "source": [
        "def login():\n",
        "    username = input(\"Masukkan Username: \")\n",
        "    password = input(\"Masukkan Password: \")\n",
        "\n",
        "    while password != \"Bn123\":\n",
        "        print(\"Password salah! Silakan coba lagi.\")\n",
        "        password = input(\"Masukkan Password: \")\n",
        "\n",
        "    print(\"Login berhasil!\\n\")\n",
        "    return username\n",
        "\n",
        "\n",
        "def calculate_final_score(uas, uts, asg):\n",
        "    return (0.5 * uas) + (0.3 * uts) + (0.2 * asg)\n",
        "\n",
        "\n",
        "def determine_grade(final_score):\n",
        "    if final_score >= 90:\n",
        "        return \"A\"\n",
        "    elif final_score >= 85:\n",
        "        return \"A-\"\n",
        "    elif final_score >= 80:\n",
        "        return \"B+\"\n",
        "    elif final_score >= 75:\n",
        "        return \"B\"\n",
        "    elif final_score >= 70:\n",
        "        return \"B-\"\n",
        "    elif final_score >= 65:\n",
        "        return \"C\"\n",
        "    elif final_score >= 50:\n",
        "        return \"D\"\n",
        "    elif final_score >= 1:\n",
        "        return \"E\"\n",
        "    else:\n",
        "        return \"F\"\n",
        "\n",
        "\n",
        "def main():\n",
        "    login()\n",
        "    nama_siswa = input(\"Masukkan Nama Siswa: \")\n",
        "    uas = int(input(\"Masukkan Nilai UAS: \"))\n",
        "    uts = int(input(\"Masukkan Nilai UTS: \"))\n",
        "    asg = int(input(\"Masukkan Nilai ASG: \"))\n",
        "\n",
        "    final_score = calculate_final_score(uas, uts, asg)\n",
        "    grade = determine_grade(final_score)\n",
        "\n",
        "    print(\"\\n=== Hasil Perhitungan ===\")\n",
        "    print(f\"Nama Siswa: {nama_siswa}\")\n",
        "    print(f\"Final Score: {final_score:.2f}\")\n",
        "    print(f\"Grade: {grade}\")\n",
        "\n",
        "\n",
        "if __name__ == \"__main__\":\n",
        "    main()\n"
      ]
    }
  ]
}