{
  "nbformat": 4,
  "nbformat_minor": 0,
  "metadata": {
    "colab": {
      "provenance": [],
      "authorship_tag": "ABX9TyMn5pjyqJCjBBrmxhkBEaa+",
      "include_colab_link": true
    },
    "kernelspec": {
      "name": "python3",
      "display_name": "Python 3"
    },
    "language_info": {
      "name": "python"
    }
  },
  "cells": [
    {
      "cell_type": "markdown",
      "metadata": {
        "id": "view-in-github",
        "colab_type": "text"
      },
      "source": [
        "<a href=\"https://colab.research.google.com/github/Rangga27-hub/Scientific-Computing/blob/main/Komang_Rangga_Hariwijaya_2802493134.ipynb\" target=\"_parent\"><img src=\"https://colab.research.google.com/assets/colab-badge.svg\" alt=\"Open In Colab\"/></a>"
      ]
    },
    {
      "cell_type": "code",
      "source": [
        "from scipy.interpolate import interp1d\n",
        "import matplotlib.pyplot as plt\n",
        "\n",
        "x = [0, 1, 2]\n",
        "y = [1, 3, 2]\n",
        "\n",
        "f = interp1d(x, y)\n",
        "y_hat = f(1.5)\n",
        "print(y_hat)"
      ],
      "metadata": {
        "id": "WQb4OAdYkxWK"
      },
      "execution_count": null,
      "outputs": []
    },
    {
      "cell_type": "code",
      "source": [
        "from scipy.interpolate import interp1d\n",
        "import matplotlib.pyplot as plt"
      ],
      "metadata": {
        "id": "uZNLy0pvk99j"
      },
      "execution_count": null,
      "outputs": []
    },
    {
      "cell_type": "code",
      "source": [
        "plt.figure(figsize=(10, 6))\n",
        "plt.plot(x, y, '-ob')\n",
        "plt.plot(1.5, y_hat, 'ro')\n",
        "plt.title('Linear Interpolation at x = 1.5')\n",
        "plt.xlabel('x')\n",
        "plt.ylabel('y')\n",
        "plt.show()"
      ],
      "metadata": {
        "id": "b_xemmUzlJvz"
      },
      "execution_count": null,
      "outputs": []
    },
    {
      "cell_type": "code",
      "source": [
        "import numpy as np\n",
        "import matplotlib.pyplot as plt\n",
        "\n",
        "def divided_diff(x,y):\n",
        "  n = len(y)\n",
        "  coef = np.zeros([n, n])\n",
        "  coef[:, 0] = y\n",
        "\n",
        "  for j in range(1,n):\n",
        "    for i in range(n - j):\n",
        "      coef[i][j] = (coef[i + 1][j - 1] - coef[i][j - 1]) / (x[i + j] - x[i])\n",
        "  return coef\n",
        "\n",
        "def newton_poly(coef, x_data, x):\n",
        "  n = len(x_data) - 1\n",
        "  p = coef[n]\n",
        "\n",
        "  for k in range(1, n + 1):\n",
        "    p = coef[n - k] + (x - x_data[n - k]) * p\n",
        "\n",
        "    return p"
      ],
      "metadata": {
        "id": "gVHcWrROlNhc"
      },
      "execution_count": null,
      "outputs": []
    },
    {
      "cell_type": "code",
      "source": [
        "x = np.array([-5, -1, 0, 2])\n",
        "y = np.array([-2, 6, 1, 3])\n",
        "\n",
        "a_s = divided_diff(x, y)[0, :]\n",
        "\n",
        "x_new = np.arange(-5, 2.1, .1)\n",
        "y_new = newton_poly(a_s, x, x_new)\n",
        "\n",
        "plt.figure(figsize=(12, 8))\n",
        "plt.plot(x, y, 'bo')\n",
        "plt.plot(x_new, y_new)\n",
        "plt.show()"
      ],
      "metadata": {
        "id": "Aymgl9ttlT2I"
      },
      "execution_count": null,
      "outputs": []
    },
    {
      "cell_type": "code",
      "source": [
        "import numpy as np\n",
        "import matplotlib.pyplot as plt\n",
        "\n",
        "def divided_diff(x, y):\n",
        "    n = len(y)\n",
        "    coef = np.zeros([n, n])  # Membuat tabel kosong untuk divided differences\n",
        "    coef[:, 0] = y  # Kolom pertama berisi nilai y\n",
        "\n",
        "    for j in range(1, n):  # Loop untuk mengisi kolom-kolom berikutnya\n",
        "        for i in range(n - j):\n",
        "            coef[i][j] = (coef[i + 1][j - 1] - coef[i][j - 1]) / (x[i + j] - x[i])\n",
        "\n",
        "    return coef\n",
        "def newton_poly(coef, x_data, x):\n",
        "    n = len(x_data) - 1\n",
        "    p = coef[n]\n",
        "\n",
        "    for k in range(1, n + 1):\n",
        "        p = coef[n - k] + (x - x_data[n - k]) * p\n",
        "\n",
        "    return p"
      ],
      "metadata": {
        "id": "n3e4jPlZlXTR"
      },
      "execution_count": null,
      "outputs": []
    },
    {
      "cell_type": "code",
      "source": [
        "x = np.array([-5, -1, 0, 2])\n",
        "y = np.array([-2, 6, 1, 3])\n",
        "\n",
        "# Menghitung koefisien divided difference\n",
        "a_s = divided_diff(x, y)[0, :]\n",
        "\n",
        "# Evaluasi interpolasi pada titik-titik baru\n",
        "x_new = np.arange(-5, 2.1, .1)\n",
        "y_new = newton_poly(a_s, x, x_new)\n",
        "\n",
        "# Membuat plot\n",
        "plt.figure(figsize=(12, 8))\n",
        "plt.plot(x, y, 'bo')  # Menampilkan titik data asli\n",
        "plt.plot(x_new, y_new)  # Menampilkan kurva interpolasi"
      ],
      "metadata": {
        "id": "L78M193vlZ5S"
      },
      "execution_count": null,
      "outputs": []
    },
    {
      "cell_type": "code",
      "source": [
        "from scipy.interpolate import CubicSpline\n",
        "import numpy as np\n",
        "import matplotlib.pyplot as plt\n",
        "\n",
        "x = [0, 1, 2]\n",
        "y = [1, 3, 2]\n",
        "\n",
        "# Added an equals sign between 'bc_type' and \"'natural'\"\n",
        "f = CubicSpline(x, y, bc_type='natural')\n",
        "\n",
        "x_new = np.linspace(0, 2, 100)\n",
        "y_new = f(x_new)\n",
        "\n",
        "plt.figure(figsize=(10, 8))\n",
        "plt.plot(x_new, y_new,'b')\n",
        "plt.plot(x, y, 'ro')\n",
        "plt.title('Cubic Spline Interpolation')\n",
        "plt.xlabel('x')\n",
        "plt.ylabel('y')\n",
        "plt.show()"
      ],
      "metadata": {
        "id": "_Pl2iBAflgw_"
      },
      "execution_count": null,
      "outputs": []
    },
    {
      "cell_type": "code",
      "source": [
        "import numpy as np\n",
        "\n",
        "# Data jarak (meter) dan kecepatan (meter/detik)\n",
        "jarak = np.array([0, 5, 10])\n",
        "kecepatan = np.array([10, 15, 20])\n",
        "\n",
        "# Jarak yang ingin dicari kecepatannya\n",
        "jarak_target = 7.2\n",
        "\n",
        "# Interpolasi linear\n",
        "kecepatan_target = np.interp(jarak_target, jarak, kecepatan)\n",
        "\n",
        "print(f\"Kecepatan pada jarak {jarak_target} meter adalah {kecepatan_target:.2f} m/detik\")"
      ],
      "metadata": {
        "colab": {
          "base_uri": "https://localhost:8080/"
        },
        "id": "6eAGlnAplkUT",
        "outputId": "8de65f65-323b-43c2-fdd4-4ccab69ca321"
      },
      "execution_count": 11,
      "outputs": [
        {
          "output_type": "stream",
          "name": "stdout",
          "text": [
            "Kecepatan pada jarak 7.2 meter adalah 17.20 m/detik\n"
          ]
        }
      ]
    }
  ]
}